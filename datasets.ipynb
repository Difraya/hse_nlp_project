{
  "metadata": {
    "kernelspec": {
      "language": "python",
      "display_name": "Python 3",
      "name": "python3"
    },
    "language_info": {
      "name": "python",
      "version": "3.10.14",
      "mimetype": "text/x-python",
      "codemirror_mode": {
        "name": "ipython",
        "version": 3
      },
      "pygments_lexer": "ipython3",
      "nbconvert_exporter": "python",
      "file_extension": ".py"
    },
    "kaggle": {
      "accelerator": "none",
      "dataSources": [
        {
          "sourceId": 86472,
          "databundleVersionId": 9805349,
          "sourceType": "competition"
        },
        {
          "sourceId": 9765615,
          "sourceType": "datasetVersion",
          "datasetId": 5878354
        }
      ],
      "dockerImageVersionId": 30786,
      "isInternetEnabled": true,
      "language": "python",
      "sourceType": "notebook",
      "isGpuEnabled": false
    },
    "colab": {
      "provenance": []
    }
  },
  "nbformat_minor": 0,
  "nbformat": 4,
  "cells": [
    {
      "cell_type": "code",
      "source": [
        "import numpy as np\n",
        "import pandas as pd\n",
        "import os\n",
        "import string\n",
        "\n",
        "for dirname, _, filenames in os.walk('/kaggle/input'):\n",
        "    for filename in filenames:\n",
        "        print(os.path.join(dirname, filename))\n",
        "\n",
        "from IPython.display import HTML\n",
        "\n",
        "def create_download_link(title = \"Download a file\", filename = \"file\"):\n",
        "    html = '<a href={filename}>{title}</a>'\n",
        "    html = html.format(title=title,filename=filename)\n",
        "    return HTML(html)"
      ],
      "metadata": {
        "_uuid": "8f2839f25d086af736a60e9eeb907d3b93b6e0e5",
        "_cell_guid": "b1076dfc-b9ad-4769-8c92-a6c4dae69d19",
        "execution": {
          "iopub.status.busy": "2024-10-30T15:41:01.415574Z",
          "iopub.execute_input": "2024-10-30T15:41:01.416013Z",
          "iopub.status.idle": "2024-10-30T15:41:02.601025Z",
          "shell.execute_reply.started": "2024-10-30T15:41:01.415970Z",
          "shell.execute_reply": "2024-10-30T15:41:02.599891Z"
        },
        "trusted": true,
        "id": "CNbVK86b82-_",
        "outputId": "2974a0ce-9314-4752-bb16-576c355ee232"
      },
      "execution_count": null,
      "outputs": [
        {
          "name": "stdout",
          "text": "/kaggle/input/hse-text-authorship-challenge/submission.csv\n/kaggle/input/books-eng/web2.txt\n/kaggle/input/books-eng/result.pq\n/kaggle/input/books-eng/books2.pq\n/kaggle/input/books-eng/books_f.pq\n",
          "output_type": "stream"
        }
      ]
    },
    {
      "cell_type": "markdown",
      "source": [
        "Объединю спарсенные книги в один датафрейм"
      ],
      "metadata": {
        "id": "9IIOQIg8lp6o"
      }
    },
    {
      "cell_type": "markdown",
      "source": [
        "Прочитаю первый фрейм"
      ],
      "metadata": {
        "id": "pMcWsMUeo4rw"
      }
    },
    {
      "cell_type": "code",
      "source": [
        "books_f = pd.read_parquet('/kaggle/input/books-eng/books_f.pq')"
      ],
      "metadata": {
        "execution": {
          "iopub.status.busy": "2024-10-15T08:55:07.898622Z",
          "iopub.execute_input": "2024-10-15T08:55:07.899368Z",
          "iopub.status.idle": "2024-10-15T08:55:24.502482Z",
          "shell.execute_reply.started": "2024-10-15T08:55:07.899330Z",
          "shell.execute_reply": "2024-10-15T08:55:24.501419Z"
        },
        "trusted": true,
        "id": "AJKM_7B282_z"
      },
      "execution_count": null,
      "outputs": []
    },
    {
      "cell_type": "markdown",
      "source": [
        "Обрежу текстовые вставки в текстах с сайта royallib"
      ],
      "metadata": {
        "id": "o3a-trAooSa4"
      }
    },
    {
      "cell_type": "code",
      "source": [
        "def royallib_remove(row):\n",
        "    try:\n",
        "        row = row.split('÷òåíèÿ!')[1]\n",
        "        row = row.split('Ñïàñèáî, ÷òî ñêà÷àëè êíèãó â áåñïëàòíîé ýëåêòðîííîé áèáëèîòåêå')[0]\n",
        "        return row\n",
        "    except:\n",
        "        return row"
      ],
      "metadata": {
        "execution": {
          "iopub.status.busy": "2024-10-15T10:04:38.779044Z",
          "iopub.execute_input": "2024-10-15T10:04:38.779573Z",
          "iopub.status.idle": "2024-10-15T10:04:38.785734Z",
          "shell.execute_reply.started": "2024-10-15T10:04:38.779528Z",
          "shell.execute_reply": "2024-10-15T10:04:38.784570Z"
        },
        "trusted": true,
        "id": "iwT4umte82_0"
      },
      "execution_count": null,
      "outputs": []
    },
    {
      "cell_type": "code",
      "source": [
        "books_f.text = books_f.text.apply(lambda x: royallib_remove(x))"
      ],
      "metadata": {
        "execution": {
          "iopub.status.busy": "2024-10-15T10:04:40.836141Z",
          "iopub.execute_input": "2024-10-15T10:04:40.836581Z",
          "iopub.status.idle": "2024-10-15T10:04:42.547298Z",
          "shell.execute_reply.started": "2024-10-15T10:04:40.836541Z",
          "shell.execute_reply": "2024-10-15T10:04:42.546104Z"
        },
        "trusted": true,
        "id": "fklW48Tk82_1",
        "outputId": "a4eeca6a-253f-4548-b234-658056de2f4a"
      },
      "execution_count": null,
      "outputs": [
        {
          "name": "stderr",
          "text": "/tmp/ipykernel_30/2546441832.py:1: SettingWithCopyWarning: \nA value is trying to be set on a copy of a slice from a DataFrame.\nTry using .loc[row_indexer,col_indexer] = value instead\n\nSee the caveats in the documentation: https://pandas.pydata.org/pandas-docs/stable/user_guide/indexing.html#returning-a-view-versus-a-copy\n  books_f.text = books_f.text.apply(lambda x: royallib_remove(x))\n",
          "output_type": "stream"
        }
      ]
    },
    {
      "cell_type": "markdown",
      "source": [
        "Получу из имён файлов признаки author и title"
      ],
      "metadata": {
        "id": "RW-vnXzhobqa"
      }
    },
    {
      "cell_type": "code",
      "source": [
        "books_f['title'] = books_f['FileName'].apply(lambda x: x.split('-')[1])\n",
        "books_f['title'] = books_f['title'].apply(lambda x: x[:-4])\n",
        "books_f['title'] = books_f['title'].apply(lambda x: x.replace('_', ' '))\n",
        "books_f['title'] = books_f['title'].apply(lambda x: string.capwords(x))\n",
        "books_f['title'] = books_f['title'].apply(lambda x: x.replace('-', ' '))\n",
        "books_f['title'] = books_f['title'].apply(lambda x: x.replace(',', ''))\n",
        "books_f['title'] = books_f['title'].apply(lambda x: x.replace('.', ' '))\n",
        "books_f['title'] = books_f['title'].apply(lambda x: x.replace('  ', ' '))\n",
        "books_f['title'] = books_f['title'].apply(lambda x: x.replace('  ', ' '))\n",
        "books_f['title'] = books_f['title'].apply(lambda x: x.replace(' ', '_'))\n",
        "\n",
        "books_f['author'] = books_f['FileName'].apply(lambda x: x.split('-')[0])\n",
        "books_f['author'] = books_f['author'].apply(lambda x: x.replace('_', ' '))\n",
        "books_f['author'] = books_f['author'].apply(lambda x: string.capwords(x))\n",
        "books_f['author'] = books_f['author'].apply(lambda x: x.replace('-', ' '))\n",
        "books_f['author'] = books_f['author'].apply(lambda x: x.replace(',', ''))\n",
        "books_f['author'] = books_f['author'].apply(lambda x: x.replace('.', ' '))\n",
        "books_f['author'] = books_f['author'].apply(lambda x: x.replace('  ', ' '))\n",
        "books_f['author'] = books_f['author'].apply(lambda x: x.replace('  ', ' '))\n",
        "books_f['author'] = books_f['author'].apply(lambda x: x.replace(' ', '_'))"
      ],
      "metadata": {
        "execution": {
          "iopub.status.busy": "2024-10-15T09:55:51.031464Z",
          "iopub.execute_input": "2024-10-15T09:55:51.031884Z",
          "iopub.status.idle": "2024-10-15T09:55:51.088382Z",
          "shell.execute_reply.started": "2024-10-15T09:55:51.031844Z",
          "shell.execute_reply": "2024-10-15T09:55:51.087060Z"
        },
        "trusted": true,
        "id": "6i_fdvA_82_1"
      },
      "execution_count": null,
      "outputs": []
    },
    {
      "cell_type": "markdown",
      "source": [
        "Получу признак author_sn с фамилий автора, для более удобной сверки, так как часто ФИО авторов бывают записаны по разному"
      ],
      "metadata": {
        "id": "xi9C98VZo8sB"
      }
    },
    {
      "cell_type": "code",
      "source": [
        "books_f['author_sn'] = books_f.author.apply(lambda x: x.split('_')[-1])"
      ],
      "metadata": {
        "execution": {
          "iopub.status.busy": "2024-10-15T09:56:08.969158Z",
          "iopub.execute_input": "2024-10-15T09:56:08.969616Z",
          "iopub.status.idle": "2024-10-15T09:56:08.978397Z",
          "shell.execute_reply.started": "2024-10-15T09:56:08.969576Z",
          "shell.execute_reply": "2024-10-15T09:56:08.977099Z"
        },
        "trusted": true,
        "id": "B7znrEws82_2"
      },
      "execution_count": null,
      "outputs": []
    },
    {
      "cell_type": "code",
      "source": [
        "books_f.columns"
      ],
      "metadata": {
        "execution": {
          "iopub.status.busy": "2024-10-15T09:56:25.002337Z",
          "iopub.execute_input": "2024-10-15T09:56:25.002792Z",
          "iopub.status.idle": "2024-10-15T09:56:25.010523Z",
          "shell.execute_reply.started": "2024-10-15T09:56:25.002751Z",
          "shell.execute_reply": "2024-10-15T09:56:25.009446Z"
        },
        "trusted": true,
        "id": "IL7XcAGT82_z",
        "outputId": "92487635-5735-4fa7-9814-40a2d3d944b9"
      },
      "execution_count": null,
      "outputs": [
        {
          "execution_count": 84,
          "output_type": "execute_result",
          "data": {
            "text/plain": "Index(['FileName', 'author', 'title', 'text', 'sn', 'is_gutenberg',\n       'author_sn'],\n      dtype='object')"
          },
          "metadata": {}
        }
      ]
    },
    {
      "cell_type": "code",
      "source": [
        "books_f = books_f[['author', 'author_sn', 'title', 'text', 'FileName', 'is_gutenberg']]"
      ],
      "metadata": {
        "execution": {
          "iopub.status.busy": "2024-10-15T09:57:03.052081Z",
          "iopub.execute_input": "2024-10-15T09:57:03.052565Z",
          "iopub.status.idle": "2024-10-15T09:57:03.089307Z",
          "shell.execute_reply.started": "2024-10-15T09:57:03.052523Z",
          "shell.execute_reply": "2024-10-15T09:57:03.087910Z"
        },
        "trusted": true,
        "id": "of_HKqMv82_0"
      },
      "execution_count": null,
      "outputs": []
    },
    {
      "cell_type": "code",
      "source": [
        "books_f"
      ],
      "metadata": {
        "execution": {
          "iopub.status.busy": "2024-10-15T10:06:05.219071Z",
          "iopub.execute_input": "2024-10-15T10:06:05.219488Z",
          "iopub.status.idle": "2024-10-15T10:06:05.268686Z",
          "shell.execute_reply.started": "2024-10-15T10:06:05.219451Z",
          "shell.execute_reply": "2024-10-15T10:06:05.267637Z"
        },
        "trusted": true,
        "id": "mTGJxNQK82_0",
        "outputId": "76b74f23-19cb-4734-ccf5-005406091a9e"
      },
      "execution_count": null,
      "outputs": [
        {
          "execution_count": 96,
          "output_type": "execute_result",
          "data": {
            "text/plain": "                   author    author_sn                             title  \\\n0            Mark_Meadows      Meadows                          Joy_Ride   \n1                Goldfrap     Goldfrap          Boy_Scouts_For_Uncle_Sam   \n2       Henry_Cabot_Lodge        Lodge  Hero_Tales_From_American_History   \n3          G_K_Chesterton   Chesterton                     The_Defendant   \n4     Dorothy_Scarborough  Scarborough       Famous_Modern_Ghost_Stories   \n...                   ...          ...                               ...   \n3352     William_Faulkner     Faulkner            The_Sound_And_The_Fury   \n3353     William_Faulkner     Faulkner                   Absalom_Absalom   \n3354     William_Faulkner     Faulkner                        Mosquitoes   \n3355              Tolkien      Tolkien                        Two_Towers   \n3356          Umberto_Eco          Eco    From_The_Tree_To_The_Labyrinth   \n\n                                                   text  \\\n0                              Transcriber's Note:\\n...   \n1     THE BOY SCOUTS FOR UNCLE SAM\\n\\nby\\n\\nLIEUT. H...   \n2     HERO TALES FROM AMERICAN HISTORY\\n\\nBy Henry C...   \n3     THE DEFENDANT\\n\\nBY G. K. CHESTERTON\\n\\nAUTHOR...   \n4     FAMOUS MODERN GHOST STORIES\\n\\nSelected, with ...   \n...                                                 ...   \n3352  William Faulkner\\n\\n\\nThe Sound and the Fury\\n...   \n3353  Absalom, Absalom!\\n\\n\\nWilliam Faulkner\\n\\n\\n\\...   \n3354  William Faulkner\\n\\n\\nMosquitoes\\n\\nTo Helen\\n...   \n3355  John R. R. Tolkien\\n\\nTwo Towers\\n\\n\\n\\nBook I...   \n3356  \\n\\n\\n\\n\\n\\nFROM THE TREE TO THE LABYRINTH\\n\\n...   \n\n                                               FileName  is_gutenberg  \n0                             Mark_Meadows-Joy_Ride.txt             0  \n1                 Goldfrap-Boy_Scouts_for_Uncle_Sam.txt             0  \n2     Henry_Cabot_Lodge-Hero_Tales_from_American_His...             0  \n3                      G_K_Chesterton-The_Defendant.txt             0  \n4     Dorothy_Scarborough-Famous_Modern_Ghost_Storie...             0  \n...                                                 ...           ...  \n3352        William_Faulkner-The_Sound_and_the_Fury.txt             0  \n3353               William_Faulkner-Absalom_Absalom.txt             0  \n3354                    William_Faulkner-Mosquitoes.txt             0  \n3355                             Tolkien-Two_Towers.txt             0  \n3356     Umberto_Eco-From_the_Tree_to_the_Labyrinth.txt             0  \n\n[3357 rows x 6 columns]",
            "text/html": "<div>\n<style scoped>\n    .dataframe tbody tr th:only-of-type {\n        vertical-align: middle;\n    }\n\n    .dataframe tbody tr th {\n        vertical-align: top;\n    }\n\n    .dataframe thead th {\n        text-align: right;\n    }\n</style>\n<table border=\"1\" class=\"dataframe\">\n  <thead>\n    <tr style=\"text-align: right;\">\n      <th></th>\n      <th>author</th>\n      <th>author_sn</th>\n      <th>title</th>\n      <th>text</th>\n      <th>FileName</th>\n      <th>is_gutenberg</th>\n    </tr>\n  </thead>\n  <tbody>\n    <tr>\n      <th>0</th>\n      <td>Mark_Meadows</td>\n      <td>Meadows</td>\n      <td>Joy_Ride</td>\n      <td>Transcriber's Note:\\n...</td>\n      <td>Mark_Meadows-Joy_Ride.txt</td>\n      <td>0</td>\n    </tr>\n    <tr>\n      <th>1</th>\n      <td>Goldfrap</td>\n      <td>Goldfrap</td>\n      <td>Boy_Scouts_For_Uncle_Sam</td>\n      <td>THE BOY SCOUTS FOR UNCLE SAM\\n\\nby\\n\\nLIEUT. H...</td>\n      <td>Goldfrap-Boy_Scouts_for_Uncle_Sam.txt</td>\n      <td>0</td>\n    </tr>\n    <tr>\n      <th>2</th>\n      <td>Henry_Cabot_Lodge</td>\n      <td>Lodge</td>\n      <td>Hero_Tales_From_American_History</td>\n      <td>HERO TALES FROM AMERICAN HISTORY\\n\\nBy Henry C...</td>\n      <td>Henry_Cabot_Lodge-Hero_Tales_from_American_His...</td>\n      <td>0</td>\n    </tr>\n    <tr>\n      <th>3</th>\n      <td>G_K_Chesterton</td>\n      <td>Chesterton</td>\n      <td>The_Defendant</td>\n      <td>THE DEFENDANT\\n\\nBY G. K. CHESTERTON\\n\\nAUTHOR...</td>\n      <td>G_K_Chesterton-The_Defendant.txt</td>\n      <td>0</td>\n    </tr>\n    <tr>\n      <th>4</th>\n      <td>Dorothy_Scarborough</td>\n      <td>Scarborough</td>\n      <td>Famous_Modern_Ghost_Stories</td>\n      <td>FAMOUS MODERN GHOST STORIES\\n\\nSelected, with ...</td>\n      <td>Dorothy_Scarborough-Famous_Modern_Ghost_Storie...</td>\n      <td>0</td>\n    </tr>\n    <tr>\n      <th>...</th>\n      <td>...</td>\n      <td>...</td>\n      <td>...</td>\n      <td>...</td>\n      <td>...</td>\n      <td>...</td>\n    </tr>\n    <tr>\n      <th>3352</th>\n      <td>William_Faulkner</td>\n      <td>Faulkner</td>\n      <td>The_Sound_And_The_Fury</td>\n      <td>William Faulkner\\n\\n\\nThe Sound and the Fury\\n...</td>\n      <td>William_Faulkner-The_Sound_and_the_Fury.txt</td>\n      <td>0</td>\n    </tr>\n    <tr>\n      <th>3353</th>\n      <td>William_Faulkner</td>\n      <td>Faulkner</td>\n      <td>Absalom_Absalom</td>\n      <td>Absalom, Absalom!\\n\\n\\nWilliam Faulkner\\n\\n\\n\\...</td>\n      <td>William_Faulkner-Absalom_Absalom.txt</td>\n      <td>0</td>\n    </tr>\n    <tr>\n      <th>3354</th>\n      <td>William_Faulkner</td>\n      <td>Faulkner</td>\n      <td>Mosquitoes</td>\n      <td>William Faulkner\\n\\n\\nMosquitoes\\n\\nTo Helen\\n...</td>\n      <td>William_Faulkner-Mosquitoes.txt</td>\n      <td>0</td>\n    </tr>\n    <tr>\n      <th>3355</th>\n      <td>Tolkien</td>\n      <td>Tolkien</td>\n      <td>Two_Towers</td>\n      <td>John R. R. Tolkien\\n\\nTwo Towers\\n\\n\\n\\nBook I...</td>\n      <td>Tolkien-Two_Towers.txt</td>\n      <td>0</td>\n    </tr>\n    <tr>\n      <th>3356</th>\n      <td>Umberto_Eco</td>\n      <td>Eco</td>\n      <td>From_The_Tree_To_The_Labyrinth</td>\n      <td>\\n\\n\\n\\n\\n\\nFROM THE TREE TO THE LABYRINTH\\n\\n...</td>\n      <td>Umberto_Eco-From_the_Tree_to_the_Labyrinth.txt</td>\n      <td>0</td>\n    </tr>\n  </tbody>\n</table>\n<p>3357 rows × 6 columns</p>\n</div>"
          },
          "metadata": {}
        }
      ]
    },
    {
      "cell_type": "code",
      "source": [
        "books_f.to_parquet('books_f.pq')\n",
        "create_download_link(filename='books_f.pq')"
      ],
      "metadata": {
        "execution": {
          "iopub.status.busy": "2024-10-15T10:06:46.865415Z",
          "iopub.execute_input": "2024-10-15T10:06:46.866236Z",
          "iopub.status.idle": "2024-10-15T10:07:02.301854Z",
          "shell.execute_reply.started": "2024-10-15T10:06:46.866173Z",
          "shell.execute_reply": "2024-10-15T10:07:02.300506Z"
        },
        "trusted": true,
        "id": "GlVTrzHI82_6",
        "outputId": "5555e72f-e04f-4035-be1f-d669326c1d71"
      },
      "execution_count": null,
      "outputs": [
        {
          "execution_count": 97,
          "output_type": "execute_result",
          "data": {
            "text/plain": "<IPython.core.display.HTML object>",
            "text/html": "<a href=books_f.pq>Download a file</a>"
          },
          "metadata": {}
        }
      ]
    },
    {
      "cell_type": "markdown",
      "source": [
        "Прочитаю второй фрейм"
      ],
      "metadata": {
        "id": "2UaengVfpaTJ"
      }
    },
    {
      "cell_type": "code",
      "source": [
        "books2 = pd.read_parquet('/kaggle/input/books-eng/books2.pq')"
      ],
      "metadata": {
        "execution": {
          "iopub.status.busy": "2024-10-15T09:41:45.115885Z",
          "iopub.execute_input": "2024-10-15T09:41:45.116351Z",
          "iopub.status.idle": "2024-10-15T09:41:58.611527Z",
          "shell.execute_reply.started": "2024-10-15T09:41:45.116310Z",
          "shell.execute_reply": "2024-10-15T09:41:58.610319Z"
        },
        "trusted": true,
        "id": "15imH84A82_2"
      },
      "execution_count": null,
      "outputs": []
    },
    {
      "cell_type": "markdown",
      "source": [
        "Добавлю признак FileName"
      ],
      "metadata": {
        "id": "4r99piWfpdy5"
      }
    },
    {
      "cell_type": "code",
      "source": [
        "books2['FileName'] = books2.author + \"-\" + books2.title + \".txt\""
      ],
      "metadata": {
        "execution": {
          "iopub.status.busy": "2024-10-15T10:09:04.697795Z",
          "iopub.execute_input": "2024-10-15T10:09:04.698302Z",
          "iopub.status.idle": "2024-10-15T10:09:04.709811Z",
          "shell.execute_reply.started": "2024-10-15T10:09:04.698261Z",
          "shell.execute_reply": "2024-10-15T10:09:04.708550Z"
        },
        "trusted": true,
        "id": "k_3_eiiO82_2"
      },
      "execution_count": null,
      "outputs": []
    },
    {
      "cell_type": "markdown",
      "source": [
        "Уберу из имен авторов 'et al.' в конце"
      ],
      "metadata": {
        "id": "kKG0X3CTrNNu"
      }
    },
    {
      "cell_type": "code",
      "source": [
        "books2['author_origin'] = books2.author_origin.apply(lambda x: x[:-7] if 'et al.' in x else x)"
      ],
      "metadata": {
        "execution": {
          "iopub.status.busy": "2024-10-15T09:42:14.079363Z",
          "iopub.execute_input": "2024-10-15T09:42:14.079771Z",
          "iopub.status.idle": "2024-10-15T09:42:14.087724Z",
          "shell.execute_reply.started": "2024-10-15T09:42:14.079732Z",
          "shell.execute_reply": "2024-10-15T09:42:14.086559Z"
        },
        "trusted": true,
        "id": "UZ6ajSb-82_5"
      },
      "execution_count": null,
      "outputs": []
    },
    {
      "cell_type": "markdown",
      "source": [
        "Создам признаки title и author"
      ],
      "metadata": {
        "id": "ymtSTv37rU_Q"
      }
    },
    {
      "cell_type": "code",
      "source": [
        "books2['title'] = books2['title_origin'].apply(lambda x: x.replace(',', ''))\n",
        "books2['title'] = books2['title'].apply(lambda x: x.replace('.', ' '))\n",
        "books2['title'] = books2['title'].apply(lambda x: x.replace('-', ' '))\n",
        "books2['title'] = books2['title'].apply(lambda x: x.replace('  ', ' '))\n",
        "books2['title'] = books2['title'].apply(lambda x: x.replace('  ', ' '))\n",
        "books2['title'] = books2['title'].apply(lambda x: string.capwords(x))\n",
        "books2['title'] = books2['title'].apply(lambda x: x.replace(' ', '_'))\n",
        "\n",
        "books2['author'] = books2['author_origin'].apply(lambda x: x.replace(',', ''))\n",
        "books2['author'] = books2['author'].apply(lambda x: x.replace('(', ''))\n",
        "books2['author'] = books2['author'].apply(lambda x: x.replace(')', ''))\n",
        "books2['author'] = books2['author'].apply(lambda x: x.replace('.', ' '))\n",
        "books2['author'] = books2['author'].apply(lambda x: x.replace('-', ' '))\n",
        "books2['author'] = books2['author'].apply(lambda x: x.replace('  ', ' '))\n",
        "books2['author'] = books2['author'].apply(lambda x: x.replace('  ', ' '))\n",
        "books2['author'] = books2['author'].apply(lambda x: string.capwords(x))\n",
        "books2['author'] = books2['author'].apply(lambda x: x.replace(' ', '_'))"
      ],
      "metadata": {
        "execution": {
          "iopub.status.busy": "2024-10-15T09:42:16.654472Z",
          "iopub.execute_input": "2024-10-15T09:42:16.654880Z",
          "iopub.status.idle": "2024-10-15T09:42:16.727810Z",
          "shell.execute_reply.started": "2024-10-15T09:42:16.654842Z",
          "shell.execute_reply": "2024-10-15T09:42:16.726616Z"
        },
        "trusted": true,
        "id": "pecopUhN82_5"
      },
      "execution_count": null,
      "outputs": []
    },
    {
      "cell_type": "markdown",
      "source": [
        "Создам признак author_sn"
      ],
      "metadata": {
        "id": "CdJIKpKmraET"
      }
    },
    {
      "cell_type": "code",
      "source": [
        "books2['author_sn'] = books2.author.apply(lambda x: x.split('_')[-1])"
      ],
      "metadata": {
        "execution": {
          "iopub.status.busy": "2024-10-15T09:42:18.903406Z",
          "iopub.execute_input": "2024-10-15T09:42:18.904494Z",
          "iopub.status.idle": "2024-10-15T09:42:18.913459Z",
          "shell.execute_reply.started": "2024-10-15T09:42:18.904446Z",
          "shell.execute_reply": "2024-10-15T09:42:18.912251Z"
        },
        "trusted": true,
        "id": "8BVLOxb582_5"
      },
      "execution_count": null,
      "outputs": []
    },
    {
      "cell_type": "markdown",
      "source": [
        "Уберу лишние фрагменты в текстах"
      ],
      "metadata": {
        "id": "NvBytC2mreZF"
      }
    },
    {
      "cell_type": "code",
      "source": [
        "def xxx_remove(row):\n",
        "    try:\n",
        "        row = row.split(' ***')[1]\n",
        "        row = row.split('End of Project Gutenberg')[0]\n",
        "        return row\n",
        "    except:\n",
        "        return row"
      ],
      "metadata": {
        "execution": {
          "iopub.status.busy": "2024-10-15T09:42:25.023261Z",
          "iopub.execute_input": "2024-10-15T09:42:25.023651Z",
          "iopub.status.idle": "2024-10-15T09:42:25.029164Z",
          "shell.execute_reply.started": "2024-10-15T09:42:25.023617Z",
          "shell.execute_reply": "2024-10-15T09:42:25.027751Z"
        },
        "trusted": true,
        "id": "u9AIGhY582_6"
      },
      "execution_count": null,
      "outputs": []
    },
    {
      "cell_type": "code",
      "source": [
        "books2.text = books2.text.apply(lambda x: xxx_remove(x))"
      ],
      "metadata": {
        "execution": {
          "iopub.status.busy": "2024-10-15T09:42:27.182947Z",
          "iopub.execute_input": "2024-10-15T09:42:27.183390Z",
          "iopub.status.idle": "2024-10-15T09:42:31.591126Z",
          "shell.execute_reply.started": "2024-10-15T09:42:27.183346Z",
          "shell.execute_reply": "2024-10-15T09:42:31.589941Z"
        },
        "trusted": true,
        "id": "v1-9dJMg82_6"
      },
      "execution_count": null,
      "outputs": []
    },
    {
      "cell_type": "code",
      "source": [
        "books2.to_parquet('books2.pq')\n",
        "create_download_link(filename='books2.pq')"
      ],
      "metadata": {
        "execution": {
          "iopub.status.busy": "2024-10-15T09:45:28.142411Z",
          "iopub.execute_input": "2024-10-15T09:45:28.142844Z",
          "iopub.status.idle": "2024-10-15T09:45:49.239304Z",
          "shell.execute_reply.started": "2024-10-15T09:45:28.142803Z",
          "shell.execute_reply": "2024-10-15T09:45:49.237999Z"
        },
        "trusted": true,
        "id": "VEqvD0ha82_8",
        "outputId": "7f466763-45a0-4906-9e7e-fd7f4e28b6d6"
      },
      "execution_count": null,
      "outputs": [
        {
          "execution_count": 72,
          "output_type": "execute_result",
          "data": {
            "text/plain": "<IPython.core.display.HTML object>",
            "text/html": "<a href=books2.pq>Download a file</a>"
          },
          "metadata": {}
        }
      ]
    },
    {
      "cell_type": "markdown",
      "source": [
        "Приведу фреймы к одному виду для склейки"
      ],
      "metadata": {
        "id": "fS_Gre9Drj0A"
      }
    },
    {
      "cell_type": "code",
      "source": [
        "books = books2[['author', 'author_sn', 'title', 'text', 'FileName', 'is_gutenberg']]"
      ],
      "metadata": {
        "execution": {
          "iopub.status.busy": "2024-10-15T10:09:19.324435Z",
          "iopub.execute_input": "2024-10-15T10:09:19.325562Z",
          "iopub.status.idle": "2024-10-15T10:09:19.334431Z",
          "shell.execute_reply.started": "2024-10-15T10:09:19.325513Z",
          "shell.execute_reply": "2024-10-15T10:09:19.333115Z"
        },
        "trusted": true,
        "id": "OGR8Cu6e82_2"
      },
      "execution_count": null,
      "outputs": []
    },
    {
      "cell_type": "markdown",
      "source": [
        "Объединю оба фрейма в один по высоте"
      ],
      "metadata": {
        "id": "ABHxYtqkrq7D"
      }
    },
    {
      "cell_type": "code",
      "source": [
        "result = pd.concat([books_f, books], ignore_index=True)"
      ],
      "metadata": {
        "execution": {
          "iopub.status.busy": "2024-10-15T10:10:08.435116Z",
          "iopub.execute_input": "2024-10-15T10:10:08.435561Z",
          "iopub.status.idle": "2024-10-15T10:10:08.444975Z",
          "shell.execute_reply.started": "2024-10-15T10:10:08.435521Z",
          "shell.execute_reply": "2024-10-15T10:10:08.443891Z"
        },
        "trusted": true,
        "id": "7IIGLoYH82_2"
      },
      "execution_count": null,
      "outputs": []
    },
    {
      "cell_type": "code",
      "source": [
        "result.shape"
      ],
      "metadata": {
        "execution": {
          "iopub.status.busy": "2024-10-15T10:11:17.107306Z",
          "iopub.execute_input": "2024-10-15T10:11:17.108236Z",
          "iopub.status.idle": "2024-10-15T10:11:17.115068Z",
          "shell.execute_reply.started": "2024-10-15T10:11:17.108174Z",
          "shell.execute_reply": "2024-10-15T10:11:17.113781Z"
        },
        "trusted": true,
        "id": "zGTM5rrd82_3",
        "outputId": "bc4a3c50-8230-4217-84b0-47941f15bd4a"
      },
      "execution_count": null,
      "outputs": [
        {
          "execution_count": 108,
          "output_type": "execute_result",
          "data": {
            "text/plain": "(9393, 6)"
          },
          "metadata": {}
        }
      ]
    },
    {
      "cell_type": "markdown",
      "source": [
        "Уберу дубликаты"
      ],
      "metadata": {
        "id": "jrl_K58_sLdq"
      }
    },
    {
      "cell_type": "code",
      "source": [
        "result = result.dropna()"
      ],
      "metadata": {
        "execution": {
          "iopub.status.busy": "2024-10-15T10:11:43.985820Z",
          "iopub.execute_input": "2024-10-15T10:11:43.986276Z",
          "iopub.status.idle": "2024-10-15T10:11:44.000972Z",
          "shell.execute_reply.started": "2024-10-15T10:11:43.986232Z",
          "shell.execute_reply": "2024-10-15T10:11:43.999882Z"
        },
        "trusted": true,
        "id": "dljJpWqs82_3"
      },
      "execution_count": null,
      "outputs": []
    },
    {
      "cell_type": "code",
      "source": [
        "result.shape"
      ],
      "metadata": {
        "execution": {
          "iopub.status.busy": "2024-10-15T10:11:58.760463Z",
          "iopub.execute_input": "2024-10-15T10:11:58.761334Z",
          "iopub.status.idle": "2024-10-15T10:11:58.767635Z",
          "shell.execute_reply.started": "2024-10-15T10:11:58.761289Z",
          "shell.execute_reply": "2024-10-15T10:11:58.766536Z"
        },
        "trusted": true,
        "id": "XqF_Sn-r82_3",
        "outputId": "3e6614a1-d3d9-4e38-b638-03730495b4bf"
      },
      "execution_count": null,
      "outputs": [
        {
          "execution_count": 111,
          "output_type": "execute_result",
          "data": {
            "text/plain": "(9357, 6)"
          },
          "metadata": {}
        }
      ]
    },
    {
      "cell_type": "code",
      "source": [
        "Уберу дубликаты по признакам автор и название"
      ],
      "metadata": {
        "id": "5NuifJ0dsQLE"
      },
      "execution_count": null,
      "outputs": []
    },
    {
      "cell_type": "code",
      "source": [
        "result = result.drop_duplicates(subset=['author', 'title'])"
      ],
      "metadata": {
        "execution": {
          "iopub.status.busy": "2024-10-15T10:14:35.815756Z",
          "iopub.execute_input": "2024-10-15T10:14:35.816621Z",
          "iopub.status.idle": "2024-10-15T10:14:35.832617Z",
          "shell.execute_reply.started": "2024-10-15T10:14:35.816572Z",
          "shell.execute_reply": "2024-10-15T10:14:35.831328Z"
        },
        "trusted": true,
        "id": "-HOgJxPJ82_3"
      },
      "execution_count": null,
      "outputs": []
    },
    {
      "cell_type": "code",
      "source": [
        "result.shape"
      ],
      "metadata": {
        "execution": {
          "iopub.status.busy": "2024-10-15T10:14:41.060226Z",
          "iopub.execute_input": "2024-10-15T10:14:41.061303Z",
          "iopub.status.idle": "2024-10-15T10:14:41.067995Z",
          "shell.execute_reply.started": "2024-10-15T10:14:41.061249Z",
          "shell.execute_reply": "2024-10-15T10:14:41.066939Z"
        },
        "trusted": true,
        "id": "Mk_Gklwo82_4",
        "outputId": "46bd2864-9cf2-4de8-f007-f95a204d9397"
      },
      "execution_count": null,
      "outputs": [
        {
          "execution_count": 116,
          "output_type": "execute_result",
          "data": {
            "text/plain": "(8967, 6)"
          },
          "metadata": {}
        }
      ]
    },
    {
      "cell_type": "code",
      "source": [
        "result = result.sort_values('author')"
      ],
      "metadata": {
        "execution": {
          "iopub.status.busy": "2024-10-15T10:16:12.261042Z",
          "iopub.execute_input": "2024-10-15T10:16:12.262038Z",
          "iopub.status.idle": "2024-10-15T10:16:12.280131Z",
          "shell.execute_reply.started": "2024-10-15T10:16:12.261993Z",
          "shell.execute_reply": "2024-10-15T10:16:12.278976Z"
        },
        "trusted": true,
        "id": "vCVbn_Ts82_4"
      },
      "execution_count": null,
      "outputs": []
    },
    {
      "cell_type": "code",
      "source": [
        "result"
      ],
      "metadata": {
        "execution": {
          "iopub.status.busy": "2024-10-15T10:16:15.552196Z",
          "iopub.execute_input": "2024-10-15T10:16:15.552701Z",
          "iopub.status.idle": "2024-10-15T10:16:15.604271Z",
          "shell.execute_reply.started": "2024-10-15T10:16:15.552653Z",
          "shell.execute_reply": "2024-10-15T10:16:15.603135Z"
        },
        "trusted": true,
        "id": "S-lbOPcH82_4",
        "outputId": "db35e3e0-b846-470a-fd94-7678a357a292"
      },
      "execution_count": null,
      "outputs": [
        {
          "execution_count": 119,
          "output_type": "execute_result",
          "data": {
            "text/plain": "                     author author_sn  \\\n4878              A_A_Milne     Milne   \n5832              A_A_Milne     Milne   \n923               A_A_Milne     Milne   \n2470              A_Alpheus   Alpheus   \n5308             A_B_Muzzey    Muzzey   \n...                     ...       ...   \n5157           `abdu'l_Bahá      Bahá   \n5158           `abdu'l_Bahá      Bahá   \n4543        À_Kempis_Thomas    Thomas   \n6595           Émile_Faguet    Faguet   \n5078  Émile_Jaques_Dalcroze  Dalcroze   \n\n                                                  title  \\\n4878                                Not_That_It_Matters   \n5832                                        Once_A_Week   \n923                               The_Red_House_Mystery   \n2470                                 Complete_Hypnotism   \n5308                                   The_Young_Maiden   \n...                                                 ...   \n5157                                 Bahá'í_World_Faith   \n5158  A_Traveler's_Narrative_Written_To_Illustrate_T...   \n4543                            The_Imitation_Of_Christ   \n6595                         Initiation_Into_Philosophy   \n5078                 The_Eurhythmics_Of_Jaques_Dalcroze   \n\n                                                   text  \\\n4878  \\r\\n\\r\\n\\r\\nScanned by Charles Aldarondo, text...   \n5832  \\r\\n\\r\\n\\r\\n\\r\\nProduced by Malcolm Farmer, St...   \n923   THE RED HOUSE MYSTERY\\n\\nBy A. A. Milne\\n\\n\\n\\...   \n2470  MIND-READING AND SPIRITUALISM***\\n\\n\\nE-text p...   \n5308  \\r\\n\\r\\nE-text prepared by Roger Frank and the...   \n...                                                 ...   \n5157  \\r\\n\\r\\n\\r\\n\\r\\n\\r\\n\\r\\nBahá'í World Faith\\r\\n...   \n5158  \\r\\n\\r\\n\\r\\n\\r\\n\\r\\n\\r\\nA Traveler's Narrative...   \n4543  \\r\\n\\r\\n\\r\\n\\r\\n\\r\\nThe Imitation of Christ\\r\\...   \n6595  </p>\\n\\n<p id=\"id00013\" style=\"margin-top: 4em...   \n5078  \\r\\n\\r\\n\\r\\n\\r\\nProduced by David Newman, V. L...   \n\n                                               FileName  is_gutenberg  \n4878                  A_A_Milne-Not_That_It_Matters.txt             1  \n5832                          A_A_Milne-Once_A_Week.txt             1  \n923                 a_A_Milne-The_Red_House_Mystery.txt             0  \n2470                   a_Alpheus-Complete_Hypnotism.txt             0  \n5308                    A_B_Muzzey-The_Young_Maiden.txt             1  \n...                                                 ...           ...  \n5157                `abdu'l_Bahá-Bahá'í_World_Faith.txt             1  \n5158  `abdu'l_Bahá-A_Traveler's_Narrative_Written_To...             1  \n4543        À_Kempis_Thomas-The_Imitation_Of_Christ.txt             1  \n6595        Émile_Faguet-Initiation_Into_Philosophy.txt             1  \n5078  Émile_Jaques_Dalcroze-The_Eurhythmics_Of_Jaque...             1  \n\n[8967 rows x 6 columns]",
            "text/html": "<div>\n<style scoped>\n    .dataframe tbody tr th:only-of-type {\n        vertical-align: middle;\n    }\n\n    .dataframe tbody tr th {\n        vertical-align: top;\n    }\n\n    .dataframe thead th {\n        text-align: right;\n    }\n</style>\n<table border=\"1\" class=\"dataframe\">\n  <thead>\n    <tr style=\"text-align: right;\">\n      <th></th>\n      <th>author</th>\n      <th>author_sn</th>\n      <th>title</th>\n      <th>text</th>\n      <th>FileName</th>\n      <th>is_gutenberg</th>\n    </tr>\n  </thead>\n  <tbody>\n    <tr>\n      <th>4878</th>\n      <td>A_A_Milne</td>\n      <td>Milne</td>\n      <td>Not_That_It_Matters</td>\n      <td>\\r\\n\\r\\n\\r\\nScanned by Charles Aldarondo, text...</td>\n      <td>A_A_Milne-Not_That_It_Matters.txt</td>\n      <td>1</td>\n    </tr>\n    <tr>\n      <th>5832</th>\n      <td>A_A_Milne</td>\n      <td>Milne</td>\n      <td>Once_A_Week</td>\n      <td>\\r\\n\\r\\n\\r\\n\\r\\nProduced by Malcolm Farmer, St...</td>\n      <td>A_A_Milne-Once_A_Week.txt</td>\n      <td>1</td>\n    </tr>\n    <tr>\n      <th>923</th>\n      <td>A_A_Milne</td>\n      <td>Milne</td>\n      <td>The_Red_House_Mystery</td>\n      <td>THE RED HOUSE MYSTERY\\n\\nBy A. A. Milne\\n\\n\\n\\...</td>\n      <td>a_A_Milne-The_Red_House_Mystery.txt</td>\n      <td>0</td>\n    </tr>\n    <tr>\n      <th>2470</th>\n      <td>A_Alpheus</td>\n      <td>Alpheus</td>\n      <td>Complete_Hypnotism</td>\n      <td>MIND-READING AND SPIRITUALISM***\\n\\n\\nE-text p...</td>\n      <td>a_Alpheus-Complete_Hypnotism.txt</td>\n      <td>0</td>\n    </tr>\n    <tr>\n      <th>5308</th>\n      <td>A_B_Muzzey</td>\n      <td>Muzzey</td>\n      <td>The_Young_Maiden</td>\n      <td>\\r\\n\\r\\nE-text prepared by Roger Frank and the...</td>\n      <td>A_B_Muzzey-The_Young_Maiden.txt</td>\n      <td>1</td>\n    </tr>\n    <tr>\n      <th>...</th>\n      <td>...</td>\n      <td>...</td>\n      <td>...</td>\n      <td>...</td>\n      <td>...</td>\n      <td>...</td>\n    </tr>\n    <tr>\n      <th>5157</th>\n      <td>`abdu'l_Bahá</td>\n      <td>Bahá</td>\n      <td>Bahá'í_World_Faith</td>\n      <td>\\r\\n\\r\\n\\r\\n\\r\\n\\r\\n\\r\\nBahá'í World Faith\\r\\n...</td>\n      <td>`abdu'l_Bahá-Bahá'í_World_Faith.txt</td>\n      <td>1</td>\n    </tr>\n    <tr>\n      <th>5158</th>\n      <td>`abdu'l_Bahá</td>\n      <td>Bahá</td>\n      <td>A_Traveler's_Narrative_Written_To_Illustrate_T...</td>\n      <td>\\r\\n\\r\\n\\r\\n\\r\\n\\r\\n\\r\\nA Traveler's Narrative...</td>\n      <td>`abdu'l_Bahá-A_Traveler's_Narrative_Written_To...</td>\n      <td>1</td>\n    </tr>\n    <tr>\n      <th>4543</th>\n      <td>À_Kempis_Thomas</td>\n      <td>Thomas</td>\n      <td>The_Imitation_Of_Christ</td>\n      <td>\\r\\n\\r\\n\\r\\n\\r\\n\\r\\nThe Imitation of Christ\\r\\...</td>\n      <td>À_Kempis_Thomas-The_Imitation_Of_Christ.txt</td>\n      <td>1</td>\n    </tr>\n    <tr>\n      <th>6595</th>\n      <td>Émile_Faguet</td>\n      <td>Faguet</td>\n      <td>Initiation_Into_Philosophy</td>\n      <td>&lt;/p&gt;\\n\\n&lt;p id=\"id00013\" style=\"margin-top: 4em...</td>\n      <td>Émile_Faguet-Initiation_Into_Philosophy.txt</td>\n      <td>1</td>\n    </tr>\n    <tr>\n      <th>5078</th>\n      <td>Émile_Jaques_Dalcroze</td>\n      <td>Dalcroze</td>\n      <td>The_Eurhythmics_Of_Jaques_Dalcroze</td>\n      <td>\\r\\n\\r\\n\\r\\n\\r\\nProduced by David Newman, V. L...</td>\n      <td>Émile_Jaques_Dalcroze-The_Eurhythmics_Of_Jaque...</td>\n      <td>1</td>\n    </tr>\n  </tbody>\n</table>\n<p>8967 rows × 6 columns</p>\n</div>"
          },
          "metadata": {}
        }
      ]
    },
    {
      "cell_type": "markdown",
      "source": [
        "Сохраню, полученный датафрейм"
      ],
      "metadata": {
        "id": "Bnke7-ZzsYbY"
      }
    },
    {
      "cell_type": "code",
      "source": [
        "result.to_parquet('result.pq')\n",
        "create_download_link(filename='result.pq')"
      ],
      "metadata": {
        "execution": {
          "iopub.status.busy": "2024-10-15T10:17:29.307536Z",
          "iopub.execute_input": "2024-10-15T10:17:29.308016Z",
          "iopub.status.idle": "2024-10-15T10:17:59.396867Z",
          "shell.execute_reply.started": "2024-10-15T10:17:29.307973Z",
          "shell.execute_reply": "2024-10-15T10:17:59.395564Z"
        },
        "trusted": true,
        "id": "Cc10REzi82_4",
        "outputId": "141cdcf5-8b63-4b79-a7f9-cdf850882166"
      },
      "execution_count": null,
      "outputs": [
        {
          "execution_count": 120,
          "output_type": "execute_result",
          "data": {
            "text/plain": "<IPython.core.display.HTML object>",
            "text/html": "<a href=result.pq>Download a file</a>"
          },
          "metadata": {}
        }
      ]
    },
    {
      "cell_type": "markdown",
      "source": [
        "Из полученного датафрейма result.pq выберу только тексты книг 101 автора из списка полученного по мотивам топ-100 (https://www.imdb.com/list/ls005774742/). Добавил данный список авторов (AAA.xlsx) в датасет (books-eng)."
      ],
      "metadata": {
        "id": "P_d9mShU82_H"
      }
    },
    {
      "cell_type": "code",
      "source": [
        "authors = pd.read_excel('/kaggle/input/books-eng/AAA.xlsx', header = None)"
      ],
      "metadata": {
        "execution": {
          "iopub.status.busy": "2024-10-30T16:26:42.061756Z",
          "iopub.execute_input": "2024-10-30T16:26:42.062199Z",
          "iopub.status.idle": "2024-10-30T16:26:42.106899Z",
          "shell.execute_reply.started": "2024-10-30T16:26:42.062150Z",
          "shell.execute_reply": "2024-10-30T16:26:42.105855Z"
        },
        "trusted": true,
        "id": "zZtT9ARW82_N"
      },
      "execution_count": null,
      "outputs": []
    },
    {
      "cell_type": "code",
      "source": [
        "authors = authors.rename({0 : 'authors'},axis=1)"
      ],
      "metadata": {
        "execution": {
          "iopub.status.busy": "2024-10-30T16:26:42.984752Z",
          "iopub.execute_input": "2024-10-30T16:26:42.985273Z",
          "iopub.status.idle": "2024-10-30T16:26:42.992825Z",
          "shell.execute_reply.started": "2024-10-30T16:26:42.985216Z",
          "shell.execute_reply": "2024-10-30T16:26:42.991650Z"
        },
        "trusted": true,
        "id": "e4wM7pDj82_O"
      },
      "execution_count": null,
      "outputs": []
    },
    {
      "cell_type": "code",
      "source": [
        "authors['authors'] = authors['authors'].apply(lambda x: x.replace('-', ' '))"
      ],
      "metadata": {
        "execution": {
          "iopub.status.busy": "2024-10-30T16:26:43.794140Z",
          "iopub.execute_input": "2024-10-30T16:26:43.794611Z",
          "iopub.status.idle": "2024-10-30T16:26:43.801245Z",
          "shell.execute_reply.started": "2024-10-30T16:26:43.794564Z",
          "shell.execute_reply": "2024-10-30T16:26:43.799724Z"
        },
        "trusted": true,
        "id": "nv-Gu0cq82_P"
      },
      "execution_count": null,
      "outputs": []
    },
    {
      "cell_type": "code",
      "source": [
        "authors['authors'] = authors['authors'].apply(lambda x: string.capwords(x))"
      ],
      "metadata": {
        "execution": {
          "iopub.status.busy": "2024-10-30T16:26:45.291878Z",
          "iopub.execute_input": "2024-10-30T16:26:45.292309Z",
          "iopub.status.idle": "2024-10-30T16:26:45.298768Z",
          "shell.execute_reply.started": "2024-10-30T16:26:45.292267Z",
          "shell.execute_reply": "2024-10-30T16:26:45.297601Z"
        },
        "trusted": true,
        "id": "GTz7AQPs82_Q"
      },
      "execution_count": null,
      "outputs": []
    },
    {
      "cell_type": "code",
      "source": [
        "authors = authors.apply(lambda x: x.str.replace(' ', '_'))"
      ],
      "metadata": {
        "execution": {
          "iopub.status.busy": "2024-10-30T16:26:48.062046Z",
          "iopub.execute_input": "2024-10-30T16:26:48.062479Z",
          "iopub.status.idle": "2024-10-30T16:26:48.069310Z",
          "shell.execute_reply.started": "2024-10-30T16:26:48.062437Z",
          "shell.execute_reply": "2024-10-30T16:26:48.068164Z"
        },
        "trusted": true,
        "id": "jiNDr3Qc82_R"
      },
      "execution_count": null,
      "outputs": []
    },
    {
      "cell_type": "code",
      "source": [
        "authors['sn'] = authors.authors.apply(lambda x: x if x.split('_')[-1] == '' else x.split('_')[-1])"
      ],
      "metadata": {
        "execution": {
          "iopub.status.busy": "2024-10-30T16:26:50.013833Z",
          "iopub.execute_input": "2024-10-30T16:26:50.014284Z",
          "iopub.status.idle": "2024-10-30T16:26:50.021750Z",
          "shell.execute_reply.started": "2024-10-30T16:26:50.014238Z",
          "shell.execute_reply": "2024-10-30T16:26:50.020354Z"
        },
        "trusted": true,
        "id": "bjwFZViQ82_R"
      },
      "execution_count": null,
      "outputs": []
    },
    {
      "cell_type": "markdown",
      "source": [
        "Получил датфрейм со списком авторов из рейтинга top100"
      ],
      "metadata": {
        "id": "HY6DoVKusv_T"
      }
    },
    {
      "cell_type": "code",
      "source": [
        "authors"
      ],
      "metadata": {
        "execution": {
          "iopub.status.busy": "2024-10-30T16:26:51.035026Z",
          "iopub.execute_input": "2024-10-30T16:26:51.035594Z",
          "iopub.status.idle": "2024-10-30T16:26:51.053067Z",
          "shell.execute_reply.started": "2024-10-30T16:26:51.035522Z",
          "shell.execute_reply": "2024-10-30T16:26:51.051802Z"
        },
        "trusted": true,
        "id": "aSOLHMWv82_S",
        "outputId": "bd2569d7-9abb-4f4a-dc9b-5469c8cc1d01"
      },
      "execution_count": null,
      "outputs": [
        {
          "execution_count": 96,
          "output_type": "execute_result",
          "data": {
            "text/plain": "                  authors           sn\n0                   Aesop        Aesop\n1    Ahmet_Hamdi_Tanpinar     Tanpinar\n2            Albert_Camus        Camus\n3           Aldous_Huxley       Huxley\n4       Alexander_Pushkin      Pushkin\n..                    ...          ...\n96       William_Faulkner     Faulkner\n97    William_Shakespeare  Shakespeare\n98            Yasar_Kemal        Kemal\n99        Agatha_Christie     Christie\n100          Stephen_King         King\n\n[101 rows x 2 columns]",
            "text/html": "<div>\n<style scoped>\n    .dataframe tbody tr th:only-of-type {\n        vertical-align: middle;\n    }\n\n    .dataframe tbody tr th {\n        vertical-align: top;\n    }\n\n    .dataframe thead th {\n        text-align: right;\n    }\n</style>\n<table border=\"1\" class=\"dataframe\">\n  <thead>\n    <tr style=\"text-align: right;\">\n      <th></th>\n      <th>authors</th>\n      <th>sn</th>\n    </tr>\n  </thead>\n  <tbody>\n    <tr>\n      <th>0</th>\n      <td>Aesop</td>\n      <td>Aesop</td>\n    </tr>\n    <tr>\n      <th>1</th>\n      <td>Ahmet_Hamdi_Tanpinar</td>\n      <td>Tanpinar</td>\n    </tr>\n    <tr>\n      <th>2</th>\n      <td>Albert_Camus</td>\n      <td>Camus</td>\n    </tr>\n    <tr>\n      <th>3</th>\n      <td>Aldous_Huxley</td>\n      <td>Huxley</td>\n    </tr>\n    <tr>\n      <th>4</th>\n      <td>Alexander_Pushkin</td>\n      <td>Pushkin</td>\n    </tr>\n    <tr>\n      <th>...</th>\n      <td>...</td>\n      <td>...</td>\n    </tr>\n    <tr>\n      <th>96</th>\n      <td>William_Faulkner</td>\n      <td>Faulkner</td>\n    </tr>\n    <tr>\n      <th>97</th>\n      <td>William_Shakespeare</td>\n      <td>Shakespeare</td>\n    </tr>\n    <tr>\n      <th>98</th>\n      <td>Yasar_Kemal</td>\n      <td>Kemal</td>\n    </tr>\n    <tr>\n      <th>99</th>\n      <td>Agatha_Christie</td>\n      <td>Christie</td>\n    </tr>\n    <tr>\n      <th>100</th>\n      <td>Stephen_King</td>\n      <td>King</td>\n    </tr>\n  </tbody>\n</table>\n<p>101 rows × 2 columns</p>\n</div>"
          },
          "metadata": {}
        }
      ]
    },
    {
      "cell_type": "code",
      "source": [
        "result = pd.read_parquet('/kaggle/input/books-eng/result.pq')"
      ],
      "metadata": {
        "execution": {
          "iopub.status.busy": "2024-10-30T15:54:57.175937Z",
          "iopub.execute_input": "2024-10-30T15:54:57.176407Z",
          "iopub.status.idle": "2024-10-30T15:55:26.256874Z",
          "shell.execute_reply.started": "2024-10-30T15:54:57.176339Z",
          "shell.execute_reply": "2024-10-30T15:55:26.255857Z"
        },
        "trusted": true,
        "id": "RY8pDw9V82_T"
      },
      "execution_count": null,
      "outputs": []
    },
    {
      "cell_type": "markdown",
      "source": [
        "Посмотрю каких авторов не хватает"
      ],
      "metadata": {
        "id": "iAZBG9t7tRmJ"
      }
    },
    {
      "cell_type": "code",
      "source": [
        "auths = authors[~authors.authors.isin(res.author)]"
      ],
      "metadata": {
        "execution": {
          "iopub.status.busy": "2024-10-30T16:27:03.132653Z",
          "iopub.execute_input": "2024-10-30T16:27:03.133095Z",
          "iopub.status.idle": "2024-10-30T16:27:03.140129Z",
          "shell.execute_reply.started": "2024-10-30T16:27:03.133054Z",
          "shell.execute_reply": "2024-10-30T16:27:03.138746Z"
        },
        "trusted": true,
        "id": "USYKPyd482_V"
      },
      "execution_count": null,
      "outputs": []
    },
    {
      "cell_type": "code",
      "source": [
        "auths"
      ],
      "metadata": {
        "execution": {
          "iopub.status.busy": "2024-10-30T16:27:04.074048Z",
          "iopub.execute_input": "2024-10-30T16:27:04.074499Z",
          "iopub.status.idle": "2024-10-30T16:27:04.084990Z",
          "shell.execute_reply.started": "2024-10-30T16:27:04.074454Z",
          "shell.execute_reply": "2024-10-30T16:27:04.083879Z"
        },
        "trusted": true,
        "id": "E7hZGSqn82_W",
        "outputId": "e81dcad2-7182-4af0-9ff7-4da628eb1200"
      },
      "execution_count": null,
      "outputs": [
        {
          "execution_count": 100,
          "output_type": "execute_result",
          "data": {
            "text/plain": "                    authors        sn\n35  Hans_Christian_Andersen  Andersen\n46            J_R_R_Tolkien   Tolkien",
            "text/html": "<div>\n<style scoped>\n    .dataframe tbody tr th:only-of-type {\n        vertical-align: middle;\n    }\n\n    .dataframe tbody tr th {\n        vertical-align: top;\n    }\n\n    .dataframe thead th {\n        text-align: right;\n    }\n</style>\n<table border=\"1\" class=\"dataframe\">\n  <thead>\n    <tr style=\"text-align: right;\">\n      <th></th>\n      <th>authors</th>\n      <th>sn</th>\n    </tr>\n  </thead>\n  <tbody>\n    <tr>\n      <th>35</th>\n      <td>Hans_Christian_Andersen</td>\n      <td>Andersen</td>\n    </tr>\n    <tr>\n      <th>46</th>\n      <td>J_R_R_Tolkien</td>\n      <td>Tolkien</td>\n    </tr>\n  </tbody>\n</table>\n</div>"
          },
          "metadata": {}
        }
      ]
    },
    {
      "cell_type": "markdown",
      "source": [
        "Проверю наличие книг Толкиена по фамилии"
      ],
      "metadata": {
        "id": "ZcR3WNAPtWeL"
      }
    },
    {
      "cell_type": "code",
      "source": [
        "result['Tolkien' == result.author_sn]"
      ],
      "metadata": {
        "execution": {
          "iopub.status.busy": "2024-10-30T16:25:08.389605Z",
          "iopub.execute_input": "2024-10-30T16:25:08.390034Z",
          "iopub.status.idle": "2024-10-30T16:25:08.431813Z",
          "shell.execute_reply.started": "2024-10-30T16:25:08.389994Z",
          "shell.execute_reply": "2024-10-30T16:25:08.430653Z"
        },
        "trusted": true,
        "id": "vpZsDx_n82_W",
        "outputId": "bdd84d13-09e4-4237-f12a-b581eaa081d5"
      },
      "execution_count": null,
      "outputs": [
        {
          "execution_count": 83,
          "output_type": "execute_result",
          "data": {
            "text/plain": "       author author_sn                   title  \\\n3344  Tolkien   Tolkien              The_Hobbit   \n3343  Tolkien   Tolkien  The_Return_Of_The_King   \n3342  Tolkien   Tolkien  Fellowship_Of_The_Ring   \n3341  Tolkien   Tolkien         The_Silmarillon   \n3355  Tolkien   Tolkien              Two_Towers   \n\n                                                   text  \\\n3344  \\n\\n\\n\\n\\n\\nJ.R.R. Tolkien. The Hobbit\\n\\n\\n\\n...   \n3343  John R. R. Tolkien\\n\\nThe Return of the King\\n...   \n3342  John R. R. Tolkien\\n\\nFellowship of the Ring\\n...   \n3341  \\n\\n\\n\\n\\n\\nJ.R.R. Tolkien. The Silmarillon\\n\\...   \n3355  John R. R. Tolkien\\n\\nTwo Towers\\n\\n\\n\\nBook I...   \n\n                                FileName  is_gutenberg  \n3344              Tolkien-The_Hobbit.txt             0  \n3343  Tolkien-The_Return_of_the_King.txt             0  \n3342  Tolkien-Fellowship_of_the_Ring.txt             0  \n3341         Tolkien-The_Silmarillon.txt             0  \n3355              Tolkien-Two_Towers.txt             0  ",
            "text/html": "<div>\n<style scoped>\n    .dataframe tbody tr th:only-of-type {\n        vertical-align: middle;\n    }\n\n    .dataframe tbody tr th {\n        vertical-align: top;\n    }\n\n    .dataframe thead th {\n        text-align: right;\n    }\n</style>\n<table border=\"1\" class=\"dataframe\">\n  <thead>\n    <tr style=\"text-align: right;\">\n      <th></th>\n      <th>author</th>\n      <th>author_sn</th>\n      <th>title</th>\n      <th>text</th>\n      <th>FileName</th>\n      <th>is_gutenberg</th>\n    </tr>\n  </thead>\n  <tbody>\n    <tr>\n      <th>3344</th>\n      <td>Tolkien</td>\n      <td>Tolkien</td>\n      <td>The_Hobbit</td>\n      <td>\\n\\n\\n\\n\\n\\nJ.R.R. Tolkien. The Hobbit\\n\\n\\n\\n...</td>\n      <td>Tolkien-The_Hobbit.txt</td>\n      <td>0</td>\n    </tr>\n    <tr>\n      <th>3343</th>\n      <td>Tolkien</td>\n      <td>Tolkien</td>\n      <td>The_Return_Of_The_King</td>\n      <td>John R. R. Tolkien\\n\\nThe Return of the King\\n...</td>\n      <td>Tolkien-The_Return_of_the_King.txt</td>\n      <td>0</td>\n    </tr>\n    <tr>\n      <th>3342</th>\n      <td>Tolkien</td>\n      <td>Tolkien</td>\n      <td>Fellowship_Of_The_Ring</td>\n      <td>John R. R. Tolkien\\n\\nFellowship of the Ring\\n...</td>\n      <td>Tolkien-Fellowship_of_the_Ring.txt</td>\n      <td>0</td>\n    </tr>\n    <tr>\n      <th>3341</th>\n      <td>Tolkien</td>\n      <td>Tolkien</td>\n      <td>The_Silmarillon</td>\n      <td>\\n\\n\\n\\n\\n\\nJ.R.R. Tolkien. The Silmarillon\\n\\...</td>\n      <td>Tolkien-The_Silmarillon.txt</td>\n      <td>0</td>\n    </tr>\n    <tr>\n      <th>3355</th>\n      <td>Tolkien</td>\n      <td>Tolkien</td>\n      <td>Two_Towers</td>\n      <td>John R. R. Tolkien\\n\\nTwo Towers\\n\\n\\n\\nBook I...</td>\n      <td>Tolkien-Two_Towers.txt</td>\n      <td>0</td>\n    </tr>\n  </tbody>\n</table>\n</div>"
          },
          "metadata": {}
        }
      ]
    },
    {
      "cell_type": "code",
      "source": [
        "a_list = list(auths.sn)\n",
        "a_list"
      ],
      "metadata": {
        "execution": {
          "iopub.status.busy": "2024-10-30T16:27:22.066477Z",
          "iopub.execute_input": "2024-10-30T16:27:22.067545Z",
          "iopub.status.idle": "2024-10-30T16:27:22.075042Z",
          "shell.execute_reply.started": "2024-10-30T16:27:22.067495Z",
          "shell.execute_reply": "2024-10-30T16:27:22.073783Z"
        },
        "trusted": true,
        "id": "GYlRvkqX82_X",
        "outputId": "528ae3ad-9d9b-4a4d-d2dc-9c1a5c1a3e80"
      },
      "execution_count": null,
      "outputs": [
        {
          "execution_count": 101,
          "output_type": "execute_result",
          "data": {
            "text/plain": "['Andersen', 'Tolkien']"
          },
          "metadata": {}
        }
      ]
    },
    {
      "cell_type": "markdown",
      "source": [
        "Проверю наличие недостающих авторов по их фамилиям"
      ],
      "metadata": {
        "id": "xFniWtlbtdDO"
      }
    },
    {
      "cell_type": "code",
      "source": [
        "res2 = result[result.author_sn.isin(auths.sn)]"
      ],
      "metadata": {
        "execution": {
          "iopub.status.busy": "2024-10-30T16:34:31.402295Z",
          "iopub.execute_input": "2024-10-30T16:34:31.403414Z",
          "iopub.status.idle": "2024-10-30T16:34:31.410412Z",
          "shell.execute_reply.started": "2024-10-30T16:34:31.403345Z",
          "shell.execute_reply": "2024-10-30T16:34:31.409083Z"
        },
        "trusted": true,
        "id": "9l_R9JR082_X"
      },
      "execution_count": null,
      "outputs": []
    },
    {
      "cell_type": "code",
      "source": [
        "res2"
      ],
      "metadata": {
        "execution": {
          "iopub.status.busy": "2024-10-30T16:34:32.275635Z",
          "iopub.execute_input": "2024-10-30T16:34:32.276548Z",
          "iopub.status.idle": "2024-10-30T16:34:32.325612Z",
          "shell.execute_reply.started": "2024-10-30T16:34:32.276484Z",
          "shell.execute_reply": "2024-10-30T16:34:32.324290Z"
        },
        "trusted": true,
        "id": "AbLkLF4982_m",
        "outputId": "cceb0859-2d37-4056-aaac-d91febe2c1d0"
      },
      "execution_count": null,
      "outputs": [
        {
          "execution_count": 122,
          "output_type": "execute_result",
          "data": {
            "text/plain": "                       author author_sn  \\\n4127  Hans_Christian_Andersen  Andersen   \n3651  Hans_Christian_Andersen  Andersen   \n3471  Hans_Christian_Andersen  Andersen   \n3344            J_R_R_Tolkien   Tolkien   \n3343            J_R_R_Tolkien   Tolkien   \n3342            J_R_R_Tolkien   Tolkien   \n3341            J_R_R_Tolkien   Tolkien   \n3355            J_R_R_Tolkien   Tolkien   \n\n                                          title  \\\n4127                 Stories_From_Hans_Andersen   \n3651  A_Christmas_Greeting:_A_Series_Of_Stories   \n3471                     Andersen's_Fairy_Tales   \n3344                                 The_Hobbit   \n3343                     The_Return_Of_The_King   \n3342                     Fellowship_Of_The_Ring   \n3341                            The_Silmarillon   \n3355                                 Two_Towers   \n\n                                                   text  \\\n4127  \\r\\n\\r\\n\\r\\n\\r\\nProduced by Stacy Brown, Jason...   \n3651  \\r\\n\\r\\n\\r\\n\\r\\n\\r\\nNew Juveniles for 1864\\r\\n...   \n3471  \\r\\n\\r\\n\\r\\n\\r\\nProduced by Dianne Bean\\r\\n\\r\\...   \n3344  \\n\\n\\n\\n\\n\\nJ.R.R. Tolkien. The Hobbit\\n\\n\\n\\n...   \n3343  John R. R. Tolkien\\n\\nThe Return of the King\\n...   \n3342  John R. R. Tolkien\\n\\nFellowship of the Ring\\n...   \n3341  \\n\\n\\n\\n\\n\\nJ.R.R. Tolkien. The Silmarillon\\n\\...   \n3355  John R. R. Tolkien\\n\\nTwo Towers\\n\\n\\n\\nBook I...   \n\n                                               FileName  is_gutenberg  \n4127        H_C_Andersen-Stories_From_Hans_Andersen.txt             1  \n3651  H_C_Andersen-A_Christmas_Greeting:_A_Series_Of...             1  \n3471            H_C_Andersen-Andersen's_Fairy_Tales.txt             1  \n3344                             Tolkien-The_Hobbit.txt             0  \n3343                 Tolkien-The_Return_of_the_King.txt             0  \n3342                 Tolkien-Fellowship_of_the_Ring.txt             0  \n3341                        Tolkien-The_Silmarillon.txt             0  \n3355                             Tolkien-Two_Towers.txt             0  ",
            "text/html": "<div>\n<style scoped>\n    .dataframe tbody tr th:only-of-type {\n        vertical-align: middle;\n    }\n\n    .dataframe tbody tr th {\n        vertical-align: top;\n    }\n\n    .dataframe thead th {\n        text-align: right;\n    }\n</style>\n<table border=\"1\" class=\"dataframe\">\n  <thead>\n    <tr style=\"text-align: right;\">\n      <th></th>\n      <th>author</th>\n      <th>author_sn</th>\n      <th>title</th>\n      <th>text</th>\n      <th>FileName</th>\n      <th>is_gutenberg</th>\n    </tr>\n  </thead>\n  <tbody>\n    <tr>\n      <th>4127</th>\n      <td>Hans_Christian_Andersen</td>\n      <td>Andersen</td>\n      <td>Stories_From_Hans_Andersen</td>\n      <td>\\r\\n\\r\\n\\r\\n\\r\\nProduced by Stacy Brown, Jason...</td>\n      <td>H_C_Andersen-Stories_From_Hans_Andersen.txt</td>\n      <td>1</td>\n    </tr>\n    <tr>\n      <th>3651</th>\n      <td>Hans_Christian_Andersen</td>\n      <td>Andersen</td>\n      <td>A_Christmas_Greeting:_A_Series_Of_Stories</td>\n      <td>\\r\\n\\r\\n\\r\\n\\r\\n\\r\\nNew Juveniles for 1864\\r\\n...</td>\n      <td>H_C_Andersen-A_Christmas_Greeting:_A_Series_Of...</td>\n      <td>1</td>\n    </tr>\n    <tr>\n      <th>3471</th>\n      <td>Hans_Christian_Andersen</td>\n      <td>Andersen</td>\n      <td>Andersen's_Fairy_Tales</td>\n      <td>\\r\\n\\r\\n\\r\\n\\r\\nProduced by Dianne Bean\\r\\n\\r\\...</td>\n      <td>H_C_Andersen-Andersen's_Fairy_Tales.txt</td>\n      <td>1</td>\n    </tr>\n    <tr>\n      <th>3344</th>\n      <td>J_R_R_Tolkien</td>\n      <td>Tolkien</td>\n      <td>The_Hobbit</td>\n      <td>\\n\\n\\n\\n\\n\\nJ.R.R. Tolkien. The Hobbit\\n\\n\\n\\n...</td>\n      <td>Tolkien-The_Hobbit.txt</td>\n      <td>0</td>\n    </tr>\n    <tr>\n      <th>3343</th>\n      <td>J_R_R_Tolkien</td>\n      <td>Tolkien</td>\n      <td>The_Return_Of_The_King</td>\n      <td>John R. R. Tolkien\\n\\nThe Return of the King\\n...</td>\n      <td>Tolkien-The_Return_of_the_King.txt</td>\n      <td>0</td>\n    </tr>\n    <tr>\n      <th>3342</th>\n      <td>J_R_R_Tolkien</td>\n      <td>Tolkien</td>\n      <td>Fellowship_Of_The_Ring</td>\n      <td>John R. R. Tolkien\\n\\nFellowship of the Ring\\n...</td>\n      <td>Tolkien-Fellowship_of_the_Ring.txt</td>\n      <td>0</td>\n    </tr>\n    <tr>\n      <th>3341</th>\n      <td>J_R_R_Tolkien</td>\n      <td>Tolkien</td>\n      <td>The_Silmarillon</td>\n      <td>\\n\\n\\n\\n\\n\\nJ.R.R. Tolkien. The Silmarillon\\n\\...</td>\n      <td>Tolkien-The_Silmarillon.txt</td>\n      <td>0</td>\n    </tr>\n    <tr>\n      <th>3355</th>\n      <td>J_R_R_Tolkien</td>\n      <td>Tolkien</td>\n      <td>Two_Towers</td>\n      <td>John R. R. Tolkien\\n\\nTwo Towers\\n\\n\\n\\nBook I...</td>\n      <td>Tolkien-Two_Towers.txt</td>\n      <td>0</td>\n    </tr>\n  </tbody>\n</table>\n</div>"
          },
          "metadata": {}
        }
      ]
    },
    {
      "cell_type": "markdown",
      "source": [
        "Поправлю написание ФИО авторов для соответствия между датафремами"
      ],
      "metadata": {
        "id": "OkvhZC7_tlST"
      }
    },
    {
      "cell_type": "code",
      "source": [
        "condition = result['author'] == 'H_C_Andersen'\n",
        "result.loc[condition, 'author'] = 'Hans_Christian_Andersen'"
      ],
      "metadata": {
        "execution": {
          "iopub.status.busy": "2024-10-30T16:33:47.197696Z",
          "iopub.execute_input": "2024-10-30T16:33:47.198138Z",
          "iopub.status.idle": "2024-10-30T16:33:47.207155Z",
          "shell.execute_reply.started": "2024-10-30T16:33:47.198094Z",
          "shell.execute_reply": "2024-10-30T16:33:47.205879Z"
        },
        "trusted": true,
        "id": "oecyxEcV82_o"
      },
      "execution_count": null,
      "outputs": []
    },
    {
      "cell_type": "code",
      "source": [
        "condition = result['author'] == 'Tolkien'\n",
        "result.loc[condition, 'author'] = 'J_R_R_Tolkien'"
      ],
      "metadata": {
        "execution": {
          "iopub.status.busy": "2024-10-30T16:34:28.789509Z",
          "iopub.execute_input": "2024-10-30T16:34:28.789946Z",
          "iopub.status.idle": "2024-10-30T16:34:28.798707Z",
          "shell.execute_reply.started": "2024-10-30T16:34:28.789903Z",
          "shell.execute_reply": "2024-10-30T16:34:28.797413Z"
        },
        "trusted": true,
        "id": "o5FyxzFt82_p"
      },
      "execution_count": null,
      "outputs": []
    },
    {
      "cell_type": "code",
      "source": [
        "result.shape"
      ],
      "metadata": {
        "execution": {
          "iopub.status.busy": "2024-10-30T16:31:35.761686Z",
          "iopub.execute_input": "2024-10-30T16:31:35.762146Z",
          "iopub.status.idle": "2024-10-30T16:31:35.769780Z",
          "shell.execute_reply.started": "2024-10-30T16:31:35.762101Z",
          "shell.execute_reply": "2024-10-30T16:31:35.768461Z"
        },
        "trusted": true,
        "id": "V3y9kEi582_p",
        "outputId": "f3ad6316-7235-4349-a9c7-9b5702fc2adc"
      },
      "execution_count": null,
      "outputs": [
        {
          "execution_count": 114,
          "output_type": "execute_result",
          "data": {
            "text/plain": "(8965, 6)"
          },
          "metadata": {}
        }
      ]
    },
    {
      "cell_type": "code",
      "source": [
        "result = result[~(result.author == 'Andersen')]"
      ],
      "metadata": {
        "execution": {
          "iopub.status.busy": "2024-10-30T16:30:55.856565Z",
          "iopub.execute_input": "2024-10-30T16:30:55.857310Z",
          "iopub.status.idle": "2024-10-30T16:30:55.879601Z",
          "shell.execute_reply.started": "2024-10-30T16:30:55.857261Z",
          "shell.execute_reply": "2024-10-30T16:30:55.878470Z"
        },
        "trusted": true,
        "id": "rau0P-8_82_p"
      },
      "execution_count": null,
      "outputs": []
    },
    {
      "cell_type": "code",
      "source": [
        "result = result[~(result.author == 'Hc_Andersen')]"
      ],
      "metadata": {
        "execution": {
          "iopub.status.busy": "2024-10-30T16:31:33.158872Z",
          "iopub.execute_input": "2024-10-30T16:31:33.160094Z",
          "iopub.status.idle": "2024-10-30T16:31:33.173010Z",
          "shell.execute_reply.started": "2024-10-30T16:31:33.160030Z",
          "shell.execute_reply": "2024-10-30T16:31:33.171870Z"
        },
        "trusted": true,
        "id": "f9g7Q2B682_p"
      },
      "execution_count": null,
      "outputs": []
    },
    {
      "cell_type": "code",
      "source": [
        "res2.author.value_counts()"
      ],
      "metadata": {
        "execution": {
          "iopub.status.busy": "2024-10-30T16:12:09.044568Z",
          "iopub.execute_input": "2024-10-30T16:12:09.045016Z",
          "iopub.status.idle": "2024-10-30T16:12:09.065780Z",
          "shell.execute_reply.started": "2024-10-30T16:12:09.044975Z",
          "shell.execute_reply": "2024-10-30T16:12:09.063512Z"
        },
        "trusted": true,
        "id": "DggSeD3E82_q",
        "outputId": "ec2fdb3f-e07b-4b7f-a1bf-585b7140e26c"
      },
      "execution_count": null,
      "outputs": [
        {
          "execution_count": 41,
          "output_type": "execute_result",
          "data": {
            "text/plain": "author\nMark_Twain               43\nCharles_Dickens          30\nAlexandre_Dumas          28\nArthur_Conan_Doyle       25\nJules_Verne              22\n                         ..\nFrancois_Rabelais         1\nFederico_Garcia_Lorca     1\nErnest_Hemingway          1\nErich_Maria_Remarque      1\nYasar_Kemal               1\nName: count, Length: 173, dtype: int64"
          },
          "metadata": {}
        }
      ]
    },
    {
      "cell_type": "markdown",
      "source": [
        "Проверю есть ли книги всех авторов в финальном датафрейме"
      ],
      "metadata": {
        "id": "oUs1pAXps492"
      }
    },
    {
      "cell_type": "code",
      "source": [
        "res = result[result.author.isin(authors.authors)]"
      ],
      "metadata": {
        "execution": {
          "iopub.status.busy": "2024-10-30T16:34:46.756118Z",
          "iopub.execute_input": "2024-10-30T16:34:46.756615Z",
          "iopub.status.idle": "2024-10-30T16:34:46.765358Z",
          "shell.execute_reply.started": "2024-10-30T16:34:46.756567Z",
          "shell.execute_reply": "2024-10-30T16:34:46.764328Z"
        },
        "trusted": true,
        "id": "yqDJajGg82_U"
      },
      "execution_count": null,
      "outputs": []
    },
    {
      "cell_type": "code",
      "source": [
        "res"
      ],
      "metadata": {
        "execution": {
          "iopub.status.busy": "2024-10-30T16:35:01.202589Z",
          "iopub.execute_input": "2024-10-30T16:35:01.203079Z",
          "iopub.status.idle": "2024-10-30T16:35:01.645343Z",
          "shell.execute_reply.started": "2024-10-30T16:35:01.203032Z",
          "shell.execute_reply": "2024-10-30T16:35:01.644067Z"
        },
        "trusted": true,
        "id": "-FjNqWMw82_U",
        "outputId": "d7e8e1ee-d9b4-4066-ca6e-169fc255e9eb"
      },
      "execution_count": null,
      "outputs": [
        {
          "execution_count": 125,
          "output_type": "execute_result",
          "data": {
            "text/plain": "                   author    author_sn                            title  \\\n1865                Aesop        Aesop           The_Aesop_For_Children   \n5582                Aesop        Aesop                   Aesop's_Fables   \n3937      Agatha_Christie     Christie  The_Mysterious_Affair_At_Styles   \n3943      Agatha_Christie     Christie        The_Man_In_The_Brown_Suit   \n3939      Agatha_Christie     Christie          The_Murder_On_The_Links   \n...                   ...          ...                              ...   \n1750  William_Shakespeare  Shakespeare                        King_Lear   \n3295  William_Shakespeare  Shakespeare                        Cymbeline   \n2847  William_Shakespeare  Shakespeare                    Julius_Caesar   \n3319  William_Shakespeare  Shakespeare    Complete_Works_Second_Edition   \n3077          Yasar_Kemal        Kemal            Iron_Earth_Copper_Sky   \n\n                                                   text  \\\n1865  THE ÆSOP FOR CHILDREN\\n\\n[Illustration: THE CO...   \n5582  \\r\\n\\r\\n[Illustration]\\r\\n\\r\\n\\r\\n\\r\\n\\r\\nThe ...   \n3937  \\r\\n\\r\\n\\r\\n\\r\\n\\r\\nThe Mysterious Affair at S...   \n3943  \\r\\n\\r\\n\\r\\n\\r\\n  THE MAN IN THE BROWN SUIT\\r\\...   \n3939  \\r\\n\\r\\n\\r\\n\\r\\n\\r\\ncover\\r\\n\\r\\n\\r\\n\\r\\n\\r\\nT...   \n...                                                 ...   \n1750  THE TRAGEDY OF KING LEAR\\n\\nby William Shakesp...   \n3295  1609\\n\\nCYMBELINE\\n\\nby William Shakespeare\\n\\...   \n2847  1599\\n\\n\\nTHE TRAGEDY OF JULIUS CAESAR\\n\\nby W...   \n3319  THE RSC SHAKESPEARE COMPLETE WORKS\\nTHE TEMPES...   \n3077  Yashar Kemal\\n\\nChapter 1\\n\\n\\nSilently they m...   \n\n                                               FileName  is_gutenberg  \n1865                   Aesop-The_Aesop_for_Children.txt             0  \n5582                           Aesop-Aesop's_Fables.txt             1  \n3937  Agatha_Christie-The_Mysterious_Affair_At_Style...             1  \n3943      Agatha_Christie-The_Man_In_The_Brown_Suit.txt             1  \n3939        Agatha_Christie-The_Murder_On_The_Links.txt             1  \n...                                                 ...           ...  \n1750                  William_Shakespeare-King_Lear.txt             0  \n3295                  William_Shakespeare-Cymbeline.txt             0  \n2847              William_Shakespeare-Julius_Caesar.txt             0  \n3319  William_Shakespeare-Complete_Works_Second_Edit...             0  \n3077              Yasar_Kemal-Iron_Earth_Copper_Sky.txt             0  \n\n[436 rows x 6 columns]",
            "text/html": "<div>\n<style scoped>\n    .dataframe tbody tr th:only-of-type {\n        vertical-align: middle;\n    }\n\n    .dataframe tbody tr th {\n        vertical-align: top;\n    }\n\n    .dataframe thead th {\n        text-align: right;\n    }\n</style>\n<table border=\"1\" class=\"dataframe\">\n  <thead>\n    <tr style=\"text-align: right;\">\n      <th></th>\n      <th>author</th>\n      <th>author_sn</th>\n      <th>title</th>\n      <th>text</th>\n      <th>FileName</th>\n      <th>is_gutenberg</th>\n    </tr>\n  </thead>\n  <tbody>\n    <tr>\n      <th>1865</th>\n      <td>Aesop</td>\n      <td>Aesop</td>\n      <td>The_Aesop_For_Children</td>\n      <td>THE ÆSOP FOR CHILDREN\\n\\n[Illustration: THE CO...</td>\n      <td>Aesop-The_Aesop_for_Children.txt</td>\n      <td>0</td>\n    </tr>\n    <tr>\n      <th>5582</th>\n      <td>Aesop</td>\n      <td>Aesop</td>\n      <td>Aesop's_Fables</td>\n      <td>\\r\\n\\r\\n[Illustration]\\r\\n\\r\\n\\r\\n\\r\\n\\r\\nThe ...</td>\n      <td>Aesop-Aesop's_Fables.txt</td>\n      <td>1</td>\n    </tr>\n    <tr>\n      <th>3937</th>\n      <td>Agatha_Christie</td>\n      <td>Christie</td>\n      <td>The_Mysterious_Affair_At_Styles</td>\n      <td>\\r\\n\\r\\n\\r\\n\\r\\n\\r\\nThe Mysterious Affair at S...</td>\n      <td>Agatha_Christie-The_Mysterious_Affair_At_Style...</td>\n      <td>1</td>\n    </tr>\n    <tr>\n      <th>3943</th>\n      <td>Agatha_Christie</td>\n      <td>Christie</td>\n      <td>The_Man_In_The_Brown_Suit</td>\n      <td>\\r\\n\\r\\n\\r\\n\\r\\n  THE MAN IN THE BROWN SUIT\\r\\...</td>\n      <td>Agatha_Christie-The_Man_In_The_Brown_Suit.txt</td>\n      <td>1</td>\n    </tr>\n    <tr>\n      <th>3939</th>\n      <td>Agatha_Christie</td>\n      <td>Christie</td>\n      <td>The_Murder_On_The_Links</td>\n      <td>\\r\\n\\r\\n\\r\\n\\r\\n\\r\\ncover\\r\\n\\r\\n\\r\\n\\r\\n\\r\\nT...</td>\n      <td>Agatha_Christie-The_Murder_On_The_Links.txt</td>\n      <td>1</td>\n    </tr>\n    <tr>\n      <th>...</th>\n      <td>...</td>\n      <td>...</td>\n      <td>...</td>\n      <td>...</td>\n      <td>...</td>\n      <td>...</td>\n    </tr>\n    <tr>\n      <th>1750</th>\n      <td>William_Shakespeare</td>\n      <td>Shakespeare</td>\n      <td>King_Lear</td>\n      <td>THE TRAGEDY OF KING LEAR\\n\\nby William Shakesp...</td>\n      <td>William_Shakespeare-King_Lear.txt</td>\n      <td>0</td>\n    </tr>\n    <tr>\n      <th>3295</th>\n      <td>William_Shakespeare</td>\n      <td>Shakespeare</td>\n      <td>Cymbeline</td>\n      <td>1609\\n\\nCYMBELINE\\n\\nby William Shakespeare\\n\\...</td>\n      <td>William_Shakespeare-Cymbeline.txt</td>\n      <td>0</td>\n    </tr>\n    <tr>\n      <th>2847</th>\n      <td>William_Shakespeare</td>\n      <td>Shakespeare</td>\n      <td>Julius_Caesar</td>\n      <td>1599\\n\\n\\nTHE TRAGEDY OF JULIUS CAESAR\\n\\nby W...</td>\n      <td>William_Shakespeare-Julius_Caesar.txt</td>\n      <td>0</td>\n    </tr>\n    <tr>\n      <th>3319</th>\n      <td>William_Shakespeare</td>\n      <td>Shakespeare</td>\n      <td>Complete_Works_Second_Edition</td>\n      <td>THE RSC SHAKESPEARE COMPLETE WORKS\\nTHE TEMPES...</td>\n      <td>William_Shakespeare-Complete_Works_Second_Edit...</td>\n      <td>0</td>\n    </tr>\n    <tr>\n      <th>3077</th>\n      <td>Yasar_Kemal</td>\n      <td>Kemal</td>\n      <td>Iron_Earth_Copper_Sky</td>\n      <td>Yashar Kemal\\n\\nChapter 1\\n\\n\\nSilently they m...</td>\n      <td>Yasar_Kemal-Iron_Earth_Copper_Sky.txt</td>\n      <td>0</td>\n    </tr>\n  </tbody>\n</table>\n<p>436 rows × 6 columns</p>\n</div>"
          },
          "metadata": {}
        }
      ]
    },
    {
      "cell_type": "code",
      "source": [
        "res.author.value_counts()"
      ],
      "metadata": {
        "execution": {
          "iopub.status.busy": "2024-10-30T16:34:48.213529Z",
          "iopub.execute_input": "2024-10-30T16:34:48.213952Z",
          "iopub.status.idle": "2024-10-30T16:34:48.227698Z",
          "shell.execute_reply.started": "2024-10-30T16:34:48.213912Z",
          "shell.execute_reply": "2024-10-30T16:34:48.226308Z"
        },
        "trusted": true,
        "id": "HFkVwhdD82_V",
        "outputId": "3a3104f3-fae5-4893-a4a0-fa3c6ac33ee9"
      },
      "execution_count": null,
      "outputs": [
        {
          "execution_count": 124,
          "output_type": "execute_result",
          "data": {
            "text/plain": "author\nMark_Twain               43\nCharles_Dickens          30\nAlexandre_Dumas          28\nArthur_Conan_Doyle       25\nJules_Verne              22\n                         ..\nFederico_Garcia_Lorca     1\nErnest_Hemingway          1\nMikhail_Lermontov         1\nJ_D_Salinger              1\nYasar_Kemal               1\nName: count, Length: 101, dtype: int64"
          },
          "metadata": {}
        }
      ]
    },
    {
      "cell_type": "markdown",
      "source": [
        "Сохраню датафрейм с книгами топ100 авторов"
      ],
      "metadata": {
        "id": "1bj_yj0SxDYL"
      }
    },
    {
      "cell_type": "code",
      "source": [
        "res.to_parquet('top101.pq')\n",
        "create_download_link(filename='top101.pq')"
      ],
      "metadata": {
        "execution": {
          "iopub.status.busy": "2024-10-30T16:35:56.174443Z",
          "iopub.execute_input": "2024-10-30T16:35:56.174930Z",
          "iopub.status.idle": "2024-10-30T16:36:00.189055Z",
          "shell.execute_reply.started": "2024-10-30T16:35:56.174886Z",
          "shell.execute_reply": "2024-10-30T16:36:00.187917Z"
        },
        "trusted": true,
        "id": "RrIDD1OC82_q",
        "outputId": "70b0da05-1471-44c1-f7e5-5bf754d06001"
      },
      "execution_count": null,
      "outputs": [
        {
          "execution_count": 126,
          "output_type": "execute_result",
          "data": {
            "text/plain": "<IPython.core.display.HTML object>",
            "text/html": "<a href=res.pq>Download a file</a>"
          },
          "metadata": {}
        }
      ]
    },
    {
      "cell_type": "markdown",
      "source": [
        "Добавил полученный датафрейм с топ101 авторами в датасет."
      ],
      "metadata": {
        "id": "3XyQXaQo82_q"
      }
    },
    {
      "cell_type": "code",
      "source": [
        "top101 = pd.read_parquet('/kaggle/input/books-eng/top100.pq')"
      ],
      "metadata": {
        "id": "pAX0GF6EuZXl"
      },
      "execution_count": null,
      "outputs": []
    },
    {
      "cell_type": "code",
      "source": [
        "top101"
      ],
      "metadata": {
        "execution": {
          "iopub.status.busy": "2024-10-30T16:39:58.434252Z",
          "iopub.execute_input": "2024-10-30T16:39:58.434694Z",
          "iopub.status.idle": "2024-10-30T16:39:58.864574Z",
          "shell.execute_reply.started": "2024-10-30T16:39:58.434651Z",
          "shell.execute_reply": "2024-10-30T16:39:58.863360Z"
        },
        "trusted": true,
        "id": "NsO7VHOS82_r",
        "outputId": "893ae918-6c26-47a7-9725-df16a31e3436"
      },
      "execution_count": null,
      "outputs": [
        {
          "execution_count": 128,
          "output_type": "execute_result",
          "data": {
            "text/plain": "                   author    author_sn                            title  \\\n1865                Aesop        Aesop           The_Aesop_For_Children   \n5582                Aesop        Aesop                   Aesop's_Fables   \n3937      Agatha_Christie     Christie  The_Mysterious_Affair_At_Styles   \n3943      Agatha_Christie     Christie        The_Man_In_The_Brown_Suit   \n3939      Agatha_Christie     Christie          The_Murder_On_The_Links   \n...                   ...          ...                              ...   \n1750  William_Shakespeare  Shakespeare                        King_Lear   \n3295  William_Shakespeare  Shakespeare                        Cymbeline   \n2847  William_Shakespeare  Shakespeare                    Julius_Caesar   \n3319  William_Shakespeare  Shakespeare    Complete_Works_Second_Edition   \n3077          Yasar_Kemal        Kemal            Iron_Earth_Copper_Sky   \n\n                                                   text  \\\n1865  THE ÆSOP FOR CHILDREN\\n\\n[Illustration: THE CO...   \n5582  \\r\\n\\r\\n[Illustration]\\r\\n\\r\\n\\r\\n\\r\\n\\r\\nThe ...   \n3937  \\r\\n\\r\\n\\r\\n\\r\\n\\r\\nThe Mysterious Affair at S...   \n3943  \\r\\n\\r\\n\\r\\n\\r\\n  THE MAN IN THE BROWN SUIT\\r\\...   \n3939  \\r\\n\\r\\n\\r\\n\\r\\n\\r\\ncover\\r\\n\\r\\n\\r\\n\\r\\n\\r\\nT...   \n...                                                 ...   \n1750  THE TRAGEDY OF KING LEAR\\n\\nby William Shakesp...   \n3295  1609\\n\\nCYMBELINE\\n\\nby William Shakespeare\\n\\...   \n2847  1599\\n\\n\\nTHE TRAGEDY OF JULIUS CAESAR\\n\\nby W...   \n3319  THE RSC SHAKESPEARE COMPLETE WORKS\\nTHE TEMPES...   \n3077  Yashar Kemal\\n\\nChapter 1\\n\\n\\nSilently they m...   \n\n                                               FileName  is_gutenberg  \n1865                   Aesop-The_Aesop_for_Children.txt             0  \n5582                           Aesop-Aesop's_Fables.txt             1  \n3937  Agatha_Christie-The_Mysterious_Affair_At_Style...             1  \n3943      Agatha_Christie-The_Man_In_The_Brown_Suit.txt             1  \n3939        Agatha_Christie-The_Murder_On_The_Links.txt             1  \n...                                                 ...           ...  \n1750                  William_Shakespeare-King_Lear.txt             0  \n3295                  William_Shakespeare-Cymbeline.txt             0  \n2847              William_Shakespeare-Julius_Caesar.txt             0  \n3319  William_Shakespeare-Complete_Works_Second_Edit...             0  \n3077              Yasar_Kemal-Iron_Earth_Copper_Sky.txt             0  \n\n[436 rows x 6 columns]",
            "text/html": "<div>\n<style scoped>\n    .dataframe tbody tr th:only-of-type {\n        vertical-align: middle;\n    }\n\n    .dataframe tbody tr th {\n        vertical-align: top;\n    }\n\n    .dataframe thead th {\n        text-align: right;\n    }\n</style>\n<table border=\"1\" class=\"dataframe\">\n  <thead>\n    <tr style=\"text-align: right;\">\n      <th></th>\n      <th>author</th>\n      <th>author_sn</th>\n      <th>title</th>\n      <th>text</th>\n      <th>FileName</th>\n      <th>is_gutenberg</th>\n    </tr>\n  </thead>\n  <tbody>\n    <tr>\n      <th>1865</th>\n      <td>Aesop</td>\n      <td>Aesop</td>\n      <td>The_Aesop_For_Children</td>\n      <td>THE ÆSOP FOR CHILDREN\\n\\n[Illustration: THE CO...</td>\n      <td>Aesop-The_Aesop_for_Children.txt</td>\n      <td>0</td>\n    </tr>\n    <tr>\n      <th>5582</th>\n      <td>Aesop</td>\n      <td>Aesop</td>\n      <td>Aesop's_Fables</td>\n      <td>\\r\\n\\r\\n[Illustration]\\r\\n\\r\\n\\r\\n\\r\\n\\r\\nThe ...</td>\n      <td>Aesop-Aesop's_Fables.txt</td>\n      <td>1</td>\n    </tr>\n    <tr>\n      <th>3937</th>\n      <td>Agatha_Christie</td>\n      <td>Christie</td>\n      <td>The_Mysterious_Affair_At_Styles</td>\n      <td>\\r\\n\\r\\n\\r\\n\\r\\n\\r\\nThe Mysterious Affair at S...</td>\n      <td>Agatha_Christie-The_Mysterious_Affair_At_Style...</td>\n      <td>1</td>\n    </tr>\n    <tr>\n      <th>3943</th>\n      <td>Agatha_Christie</td>\n      <td>Christie</td>\n      <td>The_Man_In_The_Brown_Suit</td>\n      <td>\\r\\n\\r\\n\\r\\n\\r\\n  THE MAN IN THE BROWN SUIT\\r\\...</td>\n      <td>Agatha_Christie-The_Man_In_The_Brown_Suit.txt</td>\n      <td>1</td>\n    </tr>\n    <tr>\n      <th>3939</th>\n      <td>Agatha_Christie</td>\n      <td>Christie</td>\n      <td>The_Murder_On_The_Links</td>\n      <td>\\r\\n\\r\\n\\r\\n\\r\\n\\r\\ncover\\r\\n\\r\\n\\r\\n\\r\\n\\r\\nT...</td>\n      <td>Agatha_Christie-The_Murder_On_The_Links.txt</td>\n      <td>1</td>\n    </tr>\n    <tr>\n      <th>...</th>\n      <td>...</td>\n      <td>...</td>\n      <td>...</td>\n      <td>...</td>\n      <td>...</td>\n      <td>...</td>\n    </tr>\n    <tr>\n      <th>1750</th>\n      <td>William_Shakespeare</td>\n      <td>Shakespeare</td>\n      <td>King_Lear</td>\n      <td>THE TRAGEDY OF KING LEAR\\n\\nby William Shakesp...</td>\n      <td>William_Shakespeare-King_Lear.txt</td>\n      <td>0</td>\n    </tr>\n    <tr>\n      <th>3295</th>\n      <td>William_Shakespeare</td>\n      <td>Shakespeare</td>\n      <td>Cymbeline</td>\n      <td>1609\\n\\nCYMBELINE\\n\\nby William Shakespeare\\n\\...</td>\n      <td>William_Shakespeare-Cymbeline.txt</td>\n      <td>0</td>\n    </tr>\n    <tr>\n      <th>2847</th>\n      <td>William_Shakespeare</td>\n      <td>Shakespeare</td>\n      <td>Julius_Caesar</td>\n      <td>1599\\n\\n\\nTHE TRAGEDY OF JULIUS CAESAR\\n\\nby W...</td>\n      <td>William_Shakespeare-Julius_Caesar.txt</td>\n      <td>0</td>\n    </tr>\n    <tr>\n      <th>3319</th>\n      <td>William_Shakespeare</td>\n      <td>Shakespeare</td>\n      <td>Complete_Works_Second_Edition</td>\n      <td>THE RSC SHAKESPEARE COMPLETE WORKS\\nTHE TEMPES...</td>\n      <td>William_Shakespeare-Complete_Works_Second_Edit...</td>\n      <td>0</td>\n    </tr>\n    <tr>\n      <th>3077</th>\n      <td>Yasar_Kemal</td>\n      <td>Kemal</td>\n      <td>Iron_Earth_Copper_Sky</td>\n      <td>Yashar Kemal\\n\\nChapter 1\\n\\n\\nSilently they m...</td>\n      <td>Yasar_Kemal-Iron_Earth_Copper_Sky.txt</td>\n      <td>0</td>\n    </tr>\n  </tbody>\n</table>\n<p>436 rows × 6 columns</p>\n</div>"
          },
          "metadata": {}
        }
      ]
    }
  ]
}
